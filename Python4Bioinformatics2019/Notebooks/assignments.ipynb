{
 "cells": [
  {
   "cell_type": "code",
   "execution_count": 29,
   "metadata": {},
   "outputs": [],
   "source": [
    "\n",
    "def Fib():\n",
    "    v= int(input(\"how many numbers?\"))\n",
    "    a = firstnum = 0\n",
    "    b = 1\n",
    "    while firstnum < v:\n",
    "        print(a)\n",
    "        firstnum = firstnum+1\n",
    "        newtotal=a+b\n",
    "        a=b\n",
    "        b = newtotal\n",
    "\n",
    "        \n",
    "    "
   ]
  },
  {
   "cell_type": "code",
   "execution_count": 30,
   "metadata": {},
   "outputs": [
    {
     "name": "stdin",
     "output_type": "stream",
     "text": [
      "how many numbers? 9\n"
     ]
    },
    {
     "name": "stdout",
     "output_type": "stream",
     "text": [
      "0\n",
      "1\n",
      "1\n",
      "2\n",
      "3\n",
      "5\n",
      "8\n",
      "13\n",
      "21\n"
     ]
    }
   ],
   "source": [
    "Fib()\n"
   ]
  },
  {
   "cell_type": "code",
   "execution_count": null,
   "metadata": {},
   "outputs": [],
   "source": [
    "def random()\n",
    "    import urllib.request\n",
    "    with urllib.request.urlopen('http://norvig.com/ngrams/sowpods.txt') as response:\n",
    "           text= response.read()"
   ]
  },
  {
   "cell_type": "code",
   "execution_count": 44,
   "metadata": {},
   "outputs": [],
   "source": [
    "def reverse_order():\n",
    "    #ask for the string\n",
    "    a = input(\"your word?\")\n",
    "    #convert into a list and remove the spaces\n",
    "    lst = list(a.split (\" \"))\n",
    "    #reverseorder\n",
    "    reversedstr = lst[::-1] \n",
    "    return (reversedstr)"
   ]
  },
  {
   "cell_type": "code",
   "execution_count": 46,
   "metadata": {},
   "outputs": [
    {
     "name": "stdin",
     "output_type": "stream",
     "text": [
      "your word? my name is maggy\n"
     ]
    },
    {
     "data": {
      "text/plain": [
       "['maggy', 'is', 'name', 'my']"
      ]
     },
     "execution_count": 46,
     "metadata": {},
     "output_type": "execute_result"
    }
   ],
   "source": [
    "reverse_order()"
   ]
  },
  {
   "cell_type": "code",
   "execution_count": 31,
   "metadata": {},
   "outputs": [
    {
     "ename": "IndentationError",
     "evalue": "unexpected indent (<ipython-input-31-b0f61a31eff9>, line 3)",
     "output_type": "error",
     "traceback": [
      "\u001b[0;36m  File \u001b[0;32m\"<ipython-input-31-b0f61a31eff9>\"\u001b[0;36m, line \u001b[0;32m3\u001b[0m\n\u001b[0;31m    if g < 1:\u001b[0m\n\u001b[0m    ^\u001b[0m\n\u001b[0;31mIndentationError\u001b[0m\u001b[0;31m:\u001b[0m unexpected indent\n"
     ]
    }
   ],
   "source": [
    "for g in range(9):\n",
    "      guess=g \n",
    "         if g < 1:\n",
    "        print(\"too low\")\n",
    "            if g > 9:\n",
    "        print (\"too high\")\n",
    "                else:\n",
    "        print(\"exactly right\")\n",
    "        "
   ]
  },
  {
   "cell_type": "code",
   "execution_count": null,
   "metadata": {},
   "outputs": [],
   "source": []
  }
 ],
 "metadata": {
  "kernelspec": {
   "display_name": "Python 3",
   "language": "python",
   "name": "python3"
  },
  "language_info": {
   "codemirror_mode": {
    "name": "ipython",
    "version": 3
   },
   "file_extension": ".py",
   "mimetype": "text/x-python",
   "name": "python",
   "nbconvert_exporter": "python",
   "pygments_lexer": "ipython3",
   "version": "3.7.8"
  }
 },
 "nbformat": 4,
 "nbformat_minor": 4
}
